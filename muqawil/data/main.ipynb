{
 "cells": [
  {
   "cell_type": "code",
   "execution_count": 20,
   "metadata": {},
   "outputs": [],
   "source": [
    "import pandas as pd\n",
    "import json"
   ]
  },
  {
   "cell_type": "code",
   "execution_count": 21,
   "metadata": {},
   "outputs": [],
   "source": [
    "with open(\"./contractors.jsonl\", \"r\", encoding=\"utf-8\") as file:\n",
    "    data = (json.loads(line[:-1]) for line in file.readlines())"
   ]
  },
  {
   "cell_type": "code",
   "execution_count": 22,
   "metadata": {},
   "outputs": [],
   "source": [
    "df = pd.DataFrame(data)"
   ]
  },
  {
   "cell_type": "code",
   "execution_count": 23,
   "metadata": {},
   "outputs": [
    {
     "name": "stdout",
     "output_type": "stream",
     "text": [
      "(10582, 13)\n"
     ]
    },
    {
     "data": {
      "text/html": [
       "<div>\n",
       "<style scoped>\n",
       "    .dataframe tbody tr th:only-of-type {\n",
       "        vertical-align: middle;\n",
       "    }\n",
       "\n",
       "    .dataframe tbody tr th {\n",
       "        vertical-align: top;\n",
       "    }\n",
       "\n",
       "    .dataframe thead th {\n",
       "        text-align: right;\n",
       "    }\n",
       "</style>\n",
       "<table border=\"1\" class=\"dataframe\">\n",
       "  <thead>\n",
       "    <tr style=\"text-align: right;\">\n",
       "      <th></th>\n",
       "      <th>title</th>\n",
       "      <th>badges</th>\n",
       "      <th>رقم العضويه</th>\n",
       "      <th>العضوية</th>\n",
       "      <th>عضو منذ</th>\n",
       "      <th>حجم المنشأة</th>\n",
       "      <th>عدد الساعات التدريبية</th>\n",
       "      <th>رقم الجوال</th>\n",
       "      <th>البريد الإلكترونى</th>\n",
       "      <th>المدينة</th>\n",
       "      <th>المنطقه</th>\n",
       "      <th>عنوان</th>\n",
       "      <th>الخدمة</th>\n",
       "    </tr>\n",
       "  </thead>\n",
       "  <tbody>\n",
       "    <tr>\n",
       "      <th>0</th>\n",
       "      <td>شركة بنون وفنون للمقاولات</td>\n",
       "      <td>عضوية فضية, الحساب مفعل</td>\n",
       "      <td>138113818</td>\n",
       "      <td>مقاول سعودي</td>\n",
       "      <td>2021/08/09</td>\n",
       "      <td>منشأة متناهية الصغر</td>\n",
       "      <td>41 س</td>\n",
       "      <td>920015058</td>\n",
       "      <td>info@bfconst.com</td>\n",
       "      <td>الرياض</td>\n",
       "      <td>الرياض</td>\n",
       "      <td>6394,العليا\\n3891 ,حي العليا\\nالرياض\\n12211\\nا...</td>\n",
       "      <td>\\nمراكز الخدمة\\n</td>\n",
       "    </tr>\n",
       "    <tr>\n",
       "      <th>1</th>\n",
       "      <td>شركة دوم بارك للمقاولات</td>\n",
       "      <td>عضوية فضية, الحساب مفعل</td>\n",
       "      <td>251725170</td>\n",
       "      <td>مقاول سعودي</td>\n",
       "      <td>2022/07/16</td>\n",
       "      <td>منشأة متناهية الصغر</td>\n",
       "      <td>0 س</td>\n",
       "      <td>0553518088</td>\n",
       "      <td>vv.com838@icloud.com</td>\n",
       "      <td>المويه الجديد</td>\n",
       "      <td>مكة المكرمة</td>\n",
       "      <td>المويه - أم الدوم - الشارع العام</td>\n",
       "      <td>\\nمراكز الخدمة\\n</td>\n",
       "    </tr>\n",
       "    <tr>\n",
       "      <th>2</th>\n",
       "      <td>شركة التطوير الشارقة للمقاولات</td>\n",
       "      <td>عضوية ذهبية, الحساب مفعل</td>\n",
       "      <td>144214428</td>\n",
       "      <td>مقاول سعودي</td>\n",
       "      <td>2021/09/22</td>\n",
       "      <td>منشأة صغيرة</td>\n",
       "      <td>0 س</td>\n",
       "      <td>0138141668</td>\n",
       "      <td>alsharqimna@gmail.com</td>\n",
       "      <td>الخبر</td>\n",
       "      <td>الشرقية</td>\n",
       "      <td>برج ابابطين حي العقربية . الدور الثالث . مكتب ...</td>\n",
       "      <td>NaN</td>\n",
       "    </tr>\n",
       "    <tr>\n",
       "      <th>3</th>\n",
       "      <td>شركة رسم البناء للتجارة و المقاولات</td>\n",
       "      <td>عضوية فضية, الحساب مفعل</td>\n",
       "      <td>109910994</td>\n",
       "      <td>مقاول سعودي</td>\n",
       "      <td>2021/01/19</td>\n",
       "      <td>منشأة متوسطة</td>\n",
       "      <td>9 س</td>\n",
       "      <td>0138153300</td>\n",
       "      <td>amz@rasmco.com.sa</td>\n",
       "      <td>الدمام</td>\n",
       "      <td>الشرقية</td>\n",
       "      <td>NaN</td>\n",
       "      <td>NaN</td>\n",
       "    </tr>\n",
       "    <tr>\n",
       "      <th>4</th>\n",
       "      <td>مؤسسة بوابة الخبير للمقاولات</td>\n",
       "      <td>عضوية فضية, الحساب مفعل</td>\n",
       "      <td>190519050</td>\n",
       "      <td>مقاول سعودي</td>\n",
       "      <td>2022/02/27</td>\n",
       "      <td>منشأة متناهية الصغر</td>\n",
       "      <td>0 س</td>\n",
       "      <td>0144260083</td>\n",
       "      <td>alhwaiti654@hotmail.com</td>\n",
       "      <td>تبوك</td>\n",
       "      <td>تبوك</td>\n",
       "      <td>المملكة العربية السعودية - مدينة تبوك</td>\n",
       "      <td>NaN</td>\n",
       "    </tr>\n",
       "  </tbody>\n",
       "</table>\n",
       "</div>"
      ],
      "text/plain": [
       "                                 title                    badges رقم العضويه  \\\n",
       "0            شركة بنون وفنون للمقاولات   عضوية فضية, الحساب مفعل   138113818   \n",
       "1              شركة دوم بارك للمقاولات   عضوية فضية, الحساب مفعل   251725170   \n",
       "2       شركة التطوير الشارقة للمقاولات  عضوية ذهبية, الحساب مفعل   144214428   \n",
       "3  شركة رسم البناء للتجارة و المقاولات   عضوية فضية, الحساب مفعل   109910994   \n",
       "4         مؤسسة بوابة الخبير للمقاولات   عضوية فضية, الحساب مفعل   190519050   \n",
       "\n",
       "       العضوية     عضو منذ          حجم المنشأة عدد الساعات التدريبية  \\\n",
       "0  مقاول سعودي  2021/08/09  منشأة متناهية الصغر                  41 س   \n",
       "1  مقاول سعودي  2022/07/16  منشأة متناهية الصغر                   0 س   \n",
       "2  مقاول سعودي  2021/09/22          منشأة صغيرة                   0 س   \n",
       "3  مقاول سعودي  2021/01/19         منشأة متوسطة                   9 س   \n",
       "4  مقاول سعودي  2022/02/27  منشأة متناهية الصغر                   0 س   \n",
       "\n",
       "   رقم الجوال        البريد الإلكترونى        المدينة      المنطقه  \\\n",
       "0   920015058         info@bfconst.com         الرياض       الرياض   \n",
       "1  0553518088     vv.com838@icloud.com  المويه الجديد  مكة المكرمة   \n",
       "2  0138141668    alsharqimna@gmail.com          الخبر      الشرقية   \n",
       "3  0138153300        amz@rasmco.com.sa         الدمام      الشرقية   \n",
       "4  0144260083  alhwaiti654@hotmail.com           تبوك         تبوك   \n",
       "\n",
       "                                               عنوان            الخدمة  \n",
       "0  6394,العليا\\n3891 ,حي العليا\\nالرياض\\n12211\\nا...  \\nمراكز الخدمة\\n  \n",
       "1                  المويه - أم الدوم - الشارع العام   \\nمراكز الخدمة\\n  \n",
       "2  برج ابابطين حي العقربية . الدور الثالث . مكتب ...               NaN  \n",
       "3                                                NaN               NaN  \n",
       "4             المملكة العربية السعودية - مدينة تبوك                NaN  "
      ]
     },
     "execution_count": 23,
     "metadata": {},
     "output_type": "execute_result"
    }
   ],
   "source": [
    "print(df.shape)\n",
    "df.head()"
   ]
  },
  {
   "cell_type": "code",
   "execution_count": 24,
   "metadata": {},
   "outputs": [],
   "source": [
    "# df.head(50).to_excel(\"sample.xlsx\", index=False)\n",
    "# df.to_excel(\"data.xlsx\", index=False)"
   ]
  },
  {
   "cell_type": "code",
   "execution_count": 25,
   "metadata": {},
   "outputs": [],
   "source": [
    "with open(\"suppliers.jsonl\", \"r\", encoding=\"utf-8\") as file:\n",
    "    data = (json.loads(line[:-1]) for line in file.readlines())"
   ]
  },
  {
   "cell_type": "code",
   "execution_count": 26,
   "metadata": {},
   "outputs": [],
   "source": [
    "suppliers_df = pd.DataFrame(data)"
   ]
  },
  {
   "cell_type": "code",
   "execution_count": 27,
   "metadata": {},
   "outputs": [
    {
     "name": "stdout",
     "output_type": "stream",
     "text": [
      "(3836, 4)\n"
     ]
    },
    {
     "data": {
      "text/html": [
       "<div>\n",
       "<style scoped>\n",
       "    .dataframe tbody tr th:only-of-type {\n",
       "        vertical-align: middle;\n",
       "    }\n",
       "\n",
       "    .dataframe tbody tr th {\n",
       "        vertical-align: top;\n",
       "    }\n",
       "\n",
       "    .dataframe thead th {\n",
       "        text-align: right;\n",
       "    }\n",
       "</style>\n",
       "<table border=\"1\" class=\"dataframe\">\n",
       "  <thead>\n",
       "    <tr style=\"text-align: right;\">\n",
       "      <th></th>\n",
       "      <th>title</th>\n",
       "      <th>البريد الإلكترونى</th>\n",
       "      <th>المدينة</th>\n",
       "      <th>المنطقه</th>\n",
       "    </tr>\n",
       "  </thead>\n",
       "  <tbody>\n",
       "    <tr>\n",
       "      <th>0</th>\n",
       "      <td>فرع شركة الجبس العالمية المحدودة</td>\n",
       "      <td>hmadanam@global-gypsum.com</td>\n",
       "      <td>ينبع</td>\n",
       "      <td>منطقة المدينة المنورة</td>\n",
       "    </tr>\n",
       "    <tr>\n",
       "      <th>1</th>\n",
       "      <td>شركة الثنائية المتخصصة للصناعة</td>\n",
       "      <td>ahmedbsco@hotmail.com</td>\n",
       "      <td>حفر الباطن</td>\n",
       "      <td>المنطقة الشرقية</td>\n",
       "    </tr>\n",
       "    <tr>\n",
       "      <th>2</th>\n",
       "      <td>مصنع شركة ربط المتقدمة للخلطات الجافة</td>\n",
       "      <td></td>\n",
       "      <td>الدمام</td>\n",
       "      <td>المنطقة الشرقية</td>\n",
       "    </tr>\n",
       "    <tr>\n",
       "      <th>3</th>\n",
       "      <td>مصنع صناعات الفيرميكولايت العربية</td>\n",
       "      <td>lotfih@cmci-sa.com</td>\n",
       "      <td>الدمام</td>\n",
       "      <td>المنطقة الشرقية</td>\n",
       "    </tr>\n",
       "    <tr>\n",
       "      <th>4</th>\n",
       "      <td>شركة الجبس الاهليه</td>\n",
       "      <td>alomari@gypsco.com.sa</td>\n",
       "      <td>الرياض</td>\n",
       "      <td>منطقة الرياض</td>\n",
       "    </tr>\n",
       "  </tbody>\n",
       "</table>\n",
       "</div>"
      ],
      "text/plain": [
       "                                   title           البريد الإلكترونى  \\\n",
       "0       فرع شركة الجبس العالمية المحدودة  hmadanam@global-gypsum.com   \n",
       "1         شركة الثنائية المتخصصة للصناعة       ahmedbsco@hotmail.com   \n",
       "2  مصنع شركة ربط المتقدمة للخلطات الجافة                               \n",
       "3      مصنع صناعات الفيرميكولايت العربية          lotfih@cmci-sa.com   \n",
       "4                     شركة الجبس الاهليه       alomari@gypsco.com.sa   \n",
       "\n",
       "      المدينة                المنطقه  \n",
       "0        ينبع  منطقة المدينة المنورة  \n",
       "1  حفر الباطن        المنطقة الشرقية  \n",
       "2      الدمام        المنطقة الشرقية  \n",
       "3      الدمام        المنطقة الشرقية  \n",
       "4      الرياض           منطقة الرياض  "
      ]
     },
     "execution_count": 27,
     "metadata": {},
     "output_type": "execute_result"
    }
   ],
   "source": [
    "print(suppliers_df.shape)\n",
    "suppliers_df.head()"
   ]
  },
  {
   "cell_type": "code",
   "execution_count": 28,
   "metadata": {},
   "outputs": [],
   "source": [
    "# suppliers_df.to_excel(\"suppliers.xlsx\", index=False)"
   ]
  }
 ],
 "metadata": {
  "kernelspec": {
   "display_name": "Python 3 (ipykernel)",
   "language": "python",
   "name": "python3"
  },
  "language_info": {
   "codemirror_mode": {
    "name": "ipython",
    "version": 3
   },
   "file_extension": ".py",
   "mimetype": "text/x-python",
   "name": "python",
   "nbconvert_exporter": "python",
   "pygments_lexer": "ipython3",
   "version": "3.12.1"
  }
 },
 "nbformat": 4,
 "nbformat_minor": 4
}
