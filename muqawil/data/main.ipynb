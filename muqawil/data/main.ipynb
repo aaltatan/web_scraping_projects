{
 "cells": [
  {
   "cell_type": "code",
   "execution_count": 1,
   "metadata": {},
   "outputs": [],
   "source": [
    "import pandas as pd\n",
    "import json"
   ]
  },
  {
   "cell_type": "code",
   "execution_count": 2,
   "metadata": {},
   "outputs": [],
   "source": [
    "with open(\"./contractors.jsonl\", \"r\", encoding=\"utf-8\") as file:\n",
    "    data = (json.loads(line[:-1]) for line in file.readlines())"
   ]
  },
  {
   "cell_type": "code",
   "execution_count": 3,
   "metadata": {},
   "outputs": [],
   "source": [
    "df = pd.DataFrame(data)"
   ]
  },
  {
   "cell_type": "code",
   "execution_count": 4,
   "metadata": {},
   "outputs": [
    {
     "name": "stdout",
     "output_type": "stream",
     "text": [
      "(13939, 13)\n"
     ]
    },
    {
     "data": {
      "text/html": [
       "<div>\n",
       "<style scoped>\n",
       "    .dataframe tbody tr th:only-of-type {\n",
       "        vertical-align: middle;\n",
       "    }\n",
       "\n",
       "    .dataframe tbody tr th {\n",
       "        vertical-align: top;\n",
       "    }\n",
       "\n",
       "    .dataframe thead th {\n",
       "        text-align: right;\n",
       "    }\n",
       "</style>\n",
       "<table border=\"1\" class=\"dataframe\">\n",
       "  <thead>\n",
       "    <tr style=\"text-align: right;\">\n",
       "      <th></th>\n",
       "      <th>title</th>\n",
       "      <th>badges</th>\n",
       "      <th>رقم العضويه</th>\n",
       "      <th>العضوية</th>\n",
       "      <th>عضو منذ</th>\n",
       "      <th>حجم المنشأة</th>\n",
       "      <th>عدد الساعات التدريبية</th>\n",
       "      <th>رقم الجوال</th>\n",
       "      <th>البريد الإلكترونى</th>\n",
       "      <th>المدينة</th>\n",
       "      <th>المنطقه</th>\n",
       "      <th>عنوان</th>\n",
       "      <th>الخدمة</th>\n",
       "    </tr>\n",
       "  </thead>\n",
       "  <tbody>\n",
       "    <tr>\n",
       "      <th>0</th>\n",
       "      <td>شركه صناعات العزل الحديثه</td>\n",
       "      <td>الحساب مفعل</td>\n",
       "      <td>100006190</td>\n",
       "      <td>مقاول سعودي</td>\n",
       "      <td>2019/06/18</td>\n",
       "      <td>منشأة متوسطة</td>\n",
       "      <td>0 س</td>\n",
       "      <td>966112419650</td>\n",
       "      <td>projects@miic.com.sa</td>\n",
       "      <td>الرياض</td>\n",
       "      <td>الرياض</td>\n",
       "      <td>الرياض</td>\n",
       "      <td>NaN</td>\n",
       "    </tr>\n",
       "    <tr>\n",
       "      <th>1</th>\n",
       "      <td>شركة الكفاح للمقاولات</td>\n",
       "      <td>الحساب مفعل</td>\n",
       "      <td>10002946</td>\n",
       "      <td>مقاول سعودي</td>\n",
       "      <td>2018/08/25</td>\n",
       "      <td>منشأة كبيرة</td>\n",
       "      <td>108 س</td>\n",
       "      <td>0138459564</td>\n",
       "      <td>info.kcc@alkifah.com</td>\n",
       "      <td>الدمام</td>\n",
       "      <td>الشرقية</td>\n",
       "      <td>وحدة رقم:1\\nالظهران 34232-3605\\nالمملكة العربي...</td>\n",
       "      <td>NaN</td>\n",
       "    </tr>\n",
       "    <tr>\n",
       "      <th>2</th>\n",
       "      <td>شركة امتياز العروبة</td>\n",
       "      <td>الحساب مفعل</td>\n",
       "      <td>100003545</td>\n",
       "      <td>مقاول سعودي</td>\n",
       "      <td>2018/09/13</td>\n",
       "      <td>منشأة متوسطة</td>\n",
       "      <td>18 س</td>\n",
       "      <td>00966530188346</td>\n",
       "      <td>falehalwadani@hotmail.com</td>\n",
       "      <td>الزلفي</td>\n",
       "      <td>الرياض</td>\n",
       "      <td>المركز الرئيسي ( الرياض - طريق الملك عبدالله -...</td>\n",
       "      <td>NaN</td>\n",
       "    </tr>\n",
       "    <tr>\n",
       "      <th>3</th>\n",
       "      <td>الشركة الوطنية لأعمال المياه</td>\n",
       "      <td>الحساب مفعل</td>\n",
       "      <td>100004251</td>\n",
       "      <td>مقاول سعودي</td>\n",
       "      <td>2018/11/18</td>\n",
       "      <td>منشأة متوسطة</td>\n",
       "      <td>480 س</td>\n",
       "      <td>00966112088558</td>\n",
       "      <td>info@nwwc.com.sa</td>\n",
       "      <td>الرياض</td>\n",
       "      <td>الرياض</td>\n",
       "      <td>المملكة العربية السعودية - الرياض - الطريق الد...</td>\n",
       "      <td>NaN</td>\n",
       "    </tr>\n",
       "    <tr>\n",
       "      <th>4</th>\n",
       "      <td>شركة بي اي سي العربية المحدودة شركة شخص واحد</td>\n",
       "      <td>الحساب مفعل</td>\n",
       "      <td>200005232</td>\n",
       "      <td>مقاول غير سعودي</td>\n",
       "      <td>2019/02/28</td>\n",
       "      <td>منشأة كبيرة</td>\n",
       "      <td>155 س</td>\n",
       "      <td>966112166633</td>\n",
       "      <td>government.relations@becsaudi.com</td>\n",
       "      <td>الرياض</td>\n",
       "      <td>الرياض</td>\n",
       "      <td>الرياض / حى العليا / شارع العليا العام</td>\n",
       "      <td>NaN</td>\n",
       "    </tr>\n",
       "  </tbody>\n",
       "</table>\n",
       "</div>"
      ],
      "text/plain": [
       "                                          title       badges رقم العضويه  \\\n",
       "0                     شركه صناعات العزل الحديثه  الحساب مفعل   100006190   \n",
       "1                         شركة الكفاح للمقاولات  الحساب مفعل    10002946   \n",
       "2                           شركة امتياز العروبة  الحساب مفعل   100003545   \n",
       "3                  الشركة الوطنية لأعمال المياه  الحساب مفعل   100004251   \n",
       "4  شركة بي اي سي العربية المحدودة شركة شخص واحد  الحساب مفعل   200005232   \n",
       "\n",
       "           العضوية     عضو منذ   حجم المنشأة عدد الساعات التدريبية  \\\n",
       "0      مقاول سعودي  2019/06/18  منشأة متوسطة                   0 س   \n",
       "1      مقاول سعودي  2018/08/25   منشأة كبيرة                 108 س   \n",
       "2      مقاول سعودي  2018/09/13  منشأة متوسطة                  18 س   \n",
       "3      مقاول سعودي  2018/11/18  منشأة متوسطة                 480 س   \n",
       "4  مقاول غير سعودي  2019/02/28   منشأة كبيرة                 155 س   \n",
       "\n",
       "       رقم الجوال                  البريد الإلكترونى المدينة  المنطقه  \\\n",
       "0    966112419650               projects@miic.com.sa  الرياض   الرياض   \n",
       "1      0138459564               info.kcc@alkifah.com  الدمام  الشرقية   \n",
       "2  00966530188346          falehalwadani@hotmail.com  الزلفي   الرياض   \n",
       "3  00966112088558                   info@nwwc.com.sa  الرياض   الرياض   \n",
       "4    966112166633  government.relations@becsaudi.com  الرياض   الرياض   \n",
       "\n",
       "                                               عنوان الخدمة  \n",
       "0                                            الرياض     NaN  \n",
       "1  وحدة رقم:1\\nالظهران 34232-3605\\nالمملكة العربي...    NaN  \n",
       "2  المركز الرئيسي ( الرياض - طريق الملك عبدالله -...    NaN  \n",
       "3  المملكة العربية السعودية - الرياض - الطريق الد...    NaN  \n",
       "4            الرياض / حى العليا / شارع العليا العام     NaN  "
      ]
     },
     "execution_count": 4,
     "metadata": {},
     "output_type": "execute_result"
    }
   ],
   "source": [
    "print(df.shape)\n",
    "df.head()"
   ]
  },
  {
   "cell_type": "code",
   "execution_count": 5,
   "metadata": {},
   "outputs": [],
   "source": [
    "df.to_excel(\"contractors.xlsx\", index=False)"
   ]
  }
 ],
 "metadata": {
  "kernelspec": {
   "display_name": "Python 3 (ipykernel)",
   "language": "python",
   "name": "python3"
  },
  "language_info": {
   "codemirror_mode": {
    "name": "ipython",
    "version": 3
   },
   "file_extension": ".py",
   "mimetype": "text/x-python",
   "name": "python",
   "nbconvert_exporter": "python",
   "pygments_lexer": "ipython3",
   "version": "3.12.1"
  }
 },
 "nbformat": 4,
 "nbformat_minor": 4
}
