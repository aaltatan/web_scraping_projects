{
 "cells": [
  {
   "cell_type": "code",
   "execution_count": 1,
   "id": "9b9ceca9-8194-4750-be33-8ffdfc146c65",
   "metadata": {},
   "outputs": [],
   "source": [
    "import pandas as pd\n",
    "import numpy as np\n",
    "import json\n",
    "import re\n",
    "from typing import List"
   ]
  },
  {
   "cell_type": "code",
   "execution_count": 2,
   "id": "5b70936c-6116-43aa-8474-6ad0f16c392b",
   "metadata": {},
   "outputs": [],
   "source": [
    "with open('data.jsonl', 'r', encoding='utf-8') as file:\n",
    "    data = (json.loads(line[:-1]) for line in file.readlines())"
   ]
  },
  {
   "cell_type": "code",
   "execution_count": 3,
   "id": "92d7e872-23ae-4547-808d-14cc205c8a2a",
   "metadata": {},
   "outputs": [],
   "source": [
    "pd.set_option('display.max_columns', 100)"
   ]
  },
  {
   "cell_type": "code",
   "execution_count": 4,
   "id": "80624d2b-d9e8-4292-9feb-446ddd6de819",
   "metadata": {},
   "outputs": [],
   "source": [
    "df = pd.json_normalize(data)"
   ]
  },
  {
   "cell_type": "code",
   "execution_count": 5,
   "id": "25db79f8-c456-4631-9b14-3258224aa03c",
   "metadata": {},
   "outputs": [],
   "source": [
    "df.replace(np.nan, '', inplace=True)"
   ]
  },
  {
   "cell_type": "code",
   "execution_count": 6,
   "id": "ec58f307-b709-40ed-b556-a0558019fd53",
   "metadata": {},
   "outputs": [],
   "source": [
    "cols_to_drop = ['comments',\n",
    "               'comments_count',\n",
    "               'contact.fa fa-envelope.details',\n",
    "               'contact.fa fa-envelope.link',\n",
    "               'contact.icon_globe-2.details',\n",
    "               'contact.icon_globe-2.details',\n",
    "               'contact.null.details',\n",
    "               'contact.null.link',\n",
    "               'contact.icon_pin_alt.link',\n",
    "               ]"
   ]
  },
  {
   "cell_type": "code",
   "execution_count": 7,
   "id": "a15b1052-cd57-49d9-a0fe-e8e4c656c4e8",
   "metadata": {},
   "outputs": [],
   "source": [
    "df.drop(columns=cols_to_drop,inplace=True)"
   ]
  },
  {
   "cell_type": "code",
   "execution_count": 8,
   "id": "c407e90e-92dc-43df-8e44-eb4840faf6a3",
   "metadata": {},
   "outputs": [],
   "source": [
    "mapper = {\n",
    "    'contact.icon_pin_alt.details': 'address',\n",
    "    'contact.icon_phone.details': 'phone',\n",
    "    'social_media.fa-brands fa-whatsapp': 'whatsapp',\n",
    "    'contact.email': 'email',\n",
    "    'social_media.fa-brands fa-facebook-f': 'facebook',\n",
    "    'contact.icon_globe-2.link': 'website',\n",
    "    'social_media.fa-brands fa-instagram': 'instagram',\n",
    "    'social_media.fa-brands fa-linkedin-in': 'linkedin',\n",
    "    'social_media.fa-brands fa-twitter': 'twitter',\n",
    "}"
   ]
  },
  {
   "cell_type": "code",
   "execution_count": 9,
   "id": "96662519-2344-428d-9669-e48c73758abe",
   "metadata": {},
   "outputs": [],
   "source": [
    "df.rename(mapper, axis='columns', inplace=True)"
   ]
  },
  {
   "cell_type": "code",
   "execution_count": 10,
   "id": "585158ac-3811-4bc7-9f53-de7c0cd08101",
   "metadata": {},
   "outputs": [],
   "source": [
    "df['cat'] = df['categories'].str.split(\", \").str[0]"
   ]
  },
  {
   "cell_type": "code",
   "execution_count": 11,
   "id": "32c44d91-924f-4893-b373-caa866966b7f",
   "metadata": {},
   "outputs": [],
   "source": [
    "df.rename(axis='columns',\n",
    "          inplace=True,\n",
    "          mapper= {\n",
    "             'categories': 'tags',\n",
    "             'cat': 'category'\n",
    "          })"
   ]
  },
  {
   "cell_type": "code",
   "execution_count": 12,
   "id": "b50aa9ec-63f8-4837-ab5d-f84f03548637",
   "metadata": {},
   "outputs": [],
   "source": [
    "cols = [\n",
    "    \"name\",\n",
    "    \"category\",\n",
    "    \"tags\",\n",
    "    \"description\",\n",
    "    \"working_week_times\",\n",
    "    \"google_map_link\",\n",
    "    \"address\",\n",
    "    \"phone\",\n",
    "    \"email\",\n",
    "    \"website\",\n",
    "    \"whatsapp\",\n",
    "    \"facebook\",\n",
    "    \"instagram\",\n",
    "    \"twitter\",\n",
    "    \"linkedin\",\n",
    "    \"link\",\n",
    "]"
   ]
  },
  {
   "cell_type": "code",
   "execution_count": 13,
   "id": "d4ab6634",
   "metadata": {},
   "outputs": [],
   "source": [
    "df = df[cols]"
   ]
  },
  {
   "cell_type": "code",
   "execution_count": 14,
   "id": "98ba4a32",
   "metadata": {},
   "outputs": [],
   "source": [
    "df['whatsapp_no'] = df['whatsapp'].astype(str).str.extract(r'\\+?(\\d+)')"
   ]
  },
  {
   "cell_type": "code",
   "execution_count": 15,
   "id": "922f78b5",
   "metadata": {},
   "outputs": [
    {
     "name": "stdout",
     "output_type": "stream",
     "text": [
      "(9737, 17)\n"
     ]
    },
    {
     "data": {
      "text/html": [
       "<div>\n",
       "<style scoped>\n",
       "    .dataframe tbody tr th:only-of-type {\n",
       "        vertical-align: middle;\n",
       "    }\n",
       "\n",
       "    .dataframe tbody tr th {\n",
       "        vertical-align: top;\n",
       "    }\n",
       "\n",
       "    .dataframe thead th {\n",
       "        text-align: right;\n",
       "    }\n",
       "</style>\n",
       "<table border=\"1\" class=\"dataframe\">\n",
       "  <thead>\n",
       "    <tr style=\"text-align: right;\">\n",
       "      <th></th>\n",
       "      <th>name</th>\n",
       "      <th>category</th>\n",
       "      <th>tags</th>\n",
       "      <th>description</th>\n",
       "      <th>working_week_times</th>\n",
       "      <th>google_map_link</th>\n",
       "      <th>address</th>\n",
       "      <th>phone</th>\n",
       "      <th>email</th>\n",
       "      <th>website</th>\n",
       "      <th>whatsapp</th>\n",
       "      <th>facebook</th>\n",
       "      <th>instagram</th>\n",
       "      <th>twitter</th>\n",
       "      <th>linkedin</th>\n",
       "      <th>link</th>\n",
       "      <th>whatsapp_no</th>\n",
       "    </tr>\n",
       "  </thead>\n",
       "  <tbody>\n",
       "    <tr>\n",
       "      <th>0</th>\n",
       "      <td>أنفال ترك للتجارة الدولية - EnfalTurk Internat...</td>\n",
       "      <td>شركات تجارية</td>\n",
       "      <td>شركات تجارية, خدمات عامة</td>\n",
       "      <td>وصف\\nشركة أنفال ترك تساعدك  في استيراد الرخام ...</td>\n",
       "      <td></td>\n",
       "      <td>https://www.google.com/maps/dir/?api=1&amp;destina...</td>\n",
       "      <td>Şahintepe mah.,\\nBaşakşehir, İstanbul</td>\n",
       "      <td>05399406756</td>\n",
       "      <td>info@enfalturkgroup.com</td>\n",
       "      <td>https://enfalturkgroup.com</td>\n",
       "      <td>https://wa.me/+905399406756</td>\n",
       "      <td></td>\n",
       "      <td></td>\n",
       "      <td></td>\n",
       "      <td></td>\n",
       "      <td>https://www.rakwa.com/item/anfal-trk-lltjar-al...</td>\n",
       "      <td>905399406756</td>\n",
       "    </tr>\n",
       "    <tr>\n",
       "      <th>1</th>\n",
       "      <td>مفروشات ألاطلي</td>\n",
       "      <td>أثاث وديكورات</td>\n",
       "      <td>أثاث وديكورات</td>\n",
       "      <td>وصف\\nمفروشات ألاطلي\\nلأحدث موديلات المفروشات و...</td>\n",
       "      <td></td>\n",
       "      <td>https://www.google.com/maps/dir/?api=1&amp;destina...</td>\n",
       "      <td>İnecik, مفروشات ألاطلي، Melikgazi/Kayseri, Tür...</td>\n",
       "      <td>+905513985040</td>\n",
       "      <td></td>\n",
       "      <td>https://furniture-store-14711.business.site/?u...</td>\n",
       "      <td>https://wa.me/+905513985040</td>\n",
       "      <td></td>\n",
       "      <td></td>\n",
       "      <td></td>\n",
       "      <td></td>\n",
       "      <td>https://www.rakwa.com/item/mfroshat-alatly</td>\n",
       "      <td>905513985040</td>\n",
       "    </tr>\n",
       "    <tr>\n",
       "      <th>2</th>\n",
       "      <td>مجوهرات طيبة قيصري</td>\n",
       "      <td>ذهب ومجوهرات</td>\n",
       "      <td>ذهب ومجوهرات</td>\n",
       "      <td>وصف\\nمجوهرات طيبة \\nأجمل\\nوأرقى التفصيلات والق...</td>\n",
       "      <td>الإثنين: 09:00-19:00\\nالثلاثاء: 09:00-19:00\\nا...</td>\n",
       "      <td>https://www.google.com/maps/dir/?api=1&amp;destina...</td>\n",
       "      <td>Sanayi, 38010 Kocasinan/Kayseri, Türkiye,\\nKoc...</td>\n",
       "      <td>+90 531 331 01 87</td>\n",
       "      <td>kamal.rbcs@gmail.com</td>\n",
       "      <td></td>\n",
       "      <td></td>\n",
       "      <td>https://www.facebook.com/kayseriteba/</td>\n",
       "      <td></td>\n",
       "      <td></td>\n",
       "      <td></td>\n",
       "      <td>https://www.rakwa.com/item/mjohrat-tyb-kysry</td>\n",
       "      <td>NaN</td>\n",
       "    </tr>\n",
       "    <tr>\n",
       "      <th>3</th>\n",
       "      <td>JABER | جابر</td>\n",
       "      <td>استيراد وتصدير</td>\n",
       "      <td>استيراد وتصدير, شركات تجارية, أدوات صحية</td>\n",
       "      <td>وصف\\nشركة جابر التجارية المحدودة هي شركة تجاري...</td>\n",
       "      <td>الإثنين: 00:00-24:00\\nالثلاثاء: 00:00-24:00\\nا...</td>\n",
       "      <td>https://www.google.com/maps/dir/?api=1&amp;destina...</td>\n",
       "      <td>Şeker, Türkiye İş Bankası Yeni Sanayi Sitesi/K...</td>\n",
       "      <td>+905360220091</td>\n",
       "      <td>bilal@jaber.biz</td>\n",
       "      <td>http://www.jaber.biz/</td>\n",
       "      <td></td>\n",
       "      <td>https://www.facebook.com/jabertrade/</td>\n",
       "      <td></td>\n",
       "      <td></td>\n",
       "      <td></td>\n",
       "      <td>https://www.rakwa.com/item/jaber-jabr</td>\n",
       "      <td>NaN</td>\n",
       "    </tr>\n",
       "    <tr>\n",
       "      <th>4</th>\n",
       "      <td>صالون انتي الاجمل</td>\n",
       "      <td>صالونات التجميل</td>\n",
       "      <td>صالونات التجميل</td>\n",
       "      <td>وصف\\nصالون انتي الاجمل من عنا\\nوبس انتي الاجمل...</td>\n",
       "      <td></td>\n",
       "      <td>https://www.google.com/maps/dir/?api=1&amp;destina...</td>\n",
       "      <td>Hoca Ahmet Yesevi, Kayseri Havalimanı (ASR), M...</td>\n",
       "      <td>+953 7 7464861</td>\n",
       "      <td></td>\n",
       "      <td></td>\n",
       "      <td></td>\n",
       "      <td>https://www.facebook.com/profile.php?id=100063...</td>\n",
       "      <td></td>\n",
       "      <td></td>\n",
       "      <td></td>\n",
       "      <td>https://www.rakwa.com/item/salon-anty-alajml</td>\n",
       "      <td>NaN</td>\n",
       "    </tr>\n",
       "  </tbody>\n",
       "</table>\n",
       "</div>"
      ],
      "text/plain": [
       "                                                name         category  \\\n",
       "0  أنفال ترك للتجارة الدولية - EnfalTurk Internat...     شركات تجارية   \n",
       "1                                     مفروشات ألاطلي    أثاث وديكورات   \n",
       "2                                 مجوهرات طيبة قيصري     ذهب ومجوهرات   \n",
       "3                                       JABER | جابر   استيراد وتصدير   \n",
       "4                                  صالون انتي الاجمل  صالونات التجميل   \n",
       "\n",
       "                                       tags  \\\n",
       "0                  شركات تجارية, خدمات عامة   \n",
       "1                             أثاث وديكورات   \n",
       "2                              ذهب ومجوهرات   \n",
       "3  استيراد وتصدير, شركات تجارية, أدوات صحية   \n",
       "4                           صالونات التجميل   \n",
       "\n",
       "                                         description  \\\n",
       "0  وصف\\nشركة أنفال ترك تساعدك  في استيراد الرخام ...   \n",
       "1  وصف\\nمفروشات ألاطلي\\nلأحدث موديلات المفروشات و...   \n",
       "2  وصف\\nمجوهرات طيبة \\nأجمل\\nوأرقى التفصيلات والق...   \n",
       "3  وصف\\nشركة جابر التجارية المحدودة هي شركة تجاري...   \n",
       "4  وصف\\nصالون انتي الاجمل من عنا\\nوبس انتي الاجمل...   \n",
       "\n",
       "                                  working_week_times  \\\n",
       "0                                                      \n",
       "1                                                      \n",
       "2  الإثنين: 09:00-19:00\\nالثلاثاء: 09:00-19:00\\nا...   \n",
       "3  الإثنين: 00:00-24:00\\nالثلاثاء: 00:00-24:00\\nا...   \n",
       "4                                                      \n",
       "\n",
       "                                     google_map_link  \\\n",
       "0  https://www.google.com/maps/dir/?api=1&destina...   \n",
       "1  https://www.google.com/maps/dir/?api=1&destina...   \n",
       "2  https://www.google.com/maps/dir/?api=1&destina...   \n",
       "3  https://www.google.com/maps/dir/?api=1&destina...   \n",
       "4  https://www.google.com/maps/dir/?api=1&destina...   \n",
       "\n",
       "                                             address              phone  \\\n",
       "0              Şahintepe mah.,\\nBaşakşehir, İstanbul        05399406756   \n",
       "1  İnecik, مفروشات ألاطلي، Melikgazi/Kayseri, Tür...      +905513985040   \n",
       "2  Sanayi, 38010 Kocasinan/Kayseri, Türkiye,\\nKoc...  +90 531 331 01 87   \n",
       "3  Şeker, Türkiye İş Bankası Yeni Sanayi Sitesi/K...      +905360220091   \n",
       "4  Hoca Ahmet Yesevi, Kayseri Havalimanı (ASR), M...     +953 7 7464861   \n",
       "\n",
       "                     email                                            website  \\\n",
       "0  info@enfalturkgroup.com                         https://enfalturkgroup.com   \n",
       "1                           https://furniture-store-14711.business.site/?u...   \n",
       "2     kamal.rbcs@gmail.com                                                      \n",
       "3          bilal@jaber.biz                              http://www.jaber.biz/   \n",
       "4                                                                               \n",
       "\n",
       "                      whatsapp  \\\n",
       "0  https://wa.me/+905399406756   \n",
       "1  https://wa.me/+905513985040   \n",
       "2                                \n",
       "3                                \n",
       "4                                \n",
       "\n",
       "                                            facebook instagram twitter  \\\n",
       "0                                                                        \n",
       "1                                                                        \n",
       "2              https://www.facebook.com/kayseriteba/                     \n",
       "3               https://www.facebook.com/jabertrade/                     \n",
       "4  https://www.facebook.com/profile.php?id=100063...                     \n",
       "\n",
       "  linkedin                                               link   whatsapp_no  \n",
       "0           https://www.rakwa.com/item/anfal-trk-lltjar-al...  905399406756  \n",
       "1                  https://www.rakwa.com/item/mfroshat-alatly  905513985040  \n",
       "2                https://www.rakwa.com/item/mjohrat-tyb-kysry           NaN  \n",
       "3                       https://www.rakwa.com/item/jaber-jabr           NaN  \n",
       "4                https://www.rakwa.com/item/salon-anty-alajml           NaN  "
      ]
     },
     "execution_count": 15,
     "metadata": {},
     "output_type": "execute_result"
    }
   ],
   "source": [
    "print(df.shape)\n",
    "df.head()"
   ]
  },
  {
   "cell_type": "code",
   "execution_count": 16,
   "id": "93dea37e",
   "metadata": {},
   "outputs": [],
   "source": [
    "df = df.sort_values(['category'])"
   ]
  },
  {
   "cell_type": "code",
   "execution_count": 17,
   "id": "02bfbdb3",
   "metadata": {},
   "outputs": [],
   "source": [
    "df.to_excel('data.xlsx')"
   ]
  }
 ],
 "metadata": {
  "kernelspec": {
   "display_name": "Python 3 (ipykernel)",
   "language": "python",
   "name": "python3"
  },
  "language_info": {
   "codemirror_mode": {
    "name": "ipython",
    "version": 3
   },
   "file_extension": ".py",
   "mimetype": "text/x-python",
   "name": "python",
   "nbconvert_exporter": "python",
   "pygments_lexer": "ipython3",
   "version": "3.12.3"
  }
 },
 "nbformat": 4,
 "nbformat_minor": 5
}
