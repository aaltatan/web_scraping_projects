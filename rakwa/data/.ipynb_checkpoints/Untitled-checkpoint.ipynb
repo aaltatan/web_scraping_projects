{
 "cells": [
  {
   "cell_type": "code",
   "execution_count": 1,
   "id": "9b9ceca9-8194-4750-be33-8ffdfc146c65",
   "metadata": {},
   "outputs": [],
   "source": [
    "import pandas as pd\n",
    "import numpy as np\n",
    "import json\n",
    "import re\n",
    "from typing import List"
   ]
  },
  {
   "cell_type": "code",
   "execution_count": 2,
   "id": "5b70936c-6116-43aa-8474-6ad0f16c392b",
   "metadata": {},
   "outputs": [],
   "source": [
    "with open('data.jsonl', 'r', encoding='utf-8') as file:\n",
    "    data = (json.loads(line[:-1]) for line in file.readlines())"
   ]
  },
  {
   "cell_type": "code",
   "execution_count": 3,
   "id": "92d7e872-23ae-4547-808d-14cc205c8a2a",
   "metadata": {},
   "outputs": [],
   "source": [
    "pd.set_option('display.max_columns', 100)"
   ]
  },
  {
   "cell_type": "code",
   "execution_count": 4,
   "id": "80624d2b-d9e8-4292-9feb-446ddd6de819",
   "metadata": {},
   "outputs": [],
   "source": [
    "df = pd.json_normalize(data)"
   ]
  },
  {
   "cell_type": "code",
   "execution_count": 5,
   "id": "25db79f8-c456-4631-9b14-3258224aa03c",
   "metadata": {},
   "outputs": [],
   "source": [
    "df.replace(np.nan, '', inplace=True)"
   ]
  },
  {
   "cell_type": "code",
   "execution_count": 6,
   "id": "ec58f307-b709-40ed-b556-a0558019fd53",
   "metadata": {},
   "outputs": [],
   "source": [
    "cols_to_drop = ['comments',\n",
    "               'comments_count',\n",
    "               'contact.fa fa-envelope.details',\n",
    "               'contact.fa fa-envelope.link',\n",
    "               'contact.icon_globe-2.details',\n",
    "               'contact.icon_globe-2.details',\n",
    "               'contact.null.details',\n",
    "               'contact.null.link',\n",
    "               'contact.icon_pin_alt.link',\n",
    "               ]"
   ]
  },
  {
   "cell_type": "code",
   "execution_count": 7,
   "id": "a15b1052-cd57-49d9-a0fe-e8e4c656c4e8",
   "metadata": {},
   "outputs": [],
   "source": [
    "df.drop(columns=cols_to_drop,inplace=True)"
   ]
  },
  {
   "cell_type": "code",
   "execution_count": 8,
   "id": "c407e90e-92dc-43df-8e44-eb4840faf6a3",
   "metadata": {},
   "outputs": [],
   "source": [
    "mapper = {\n",
    "    'contact.icon_pin_alt.details': 'address',\n",
    "    'contact.icon_phone.details': 'phone',\n",
    "    'social_media.fa-brands fa-whatsapp': 'whatsapp',\n",
    "    'contact.email': 'email',\n",
    "    'social_media.fa-brands fa-facebook-f': 'facebook',\n",
    "    'contact.icon_globe-2.link': 'website',\n",
    "    'social_media.fa-brands fa-instagram': 'instagram',\n",
    "    'social_media.fa-brands fa-linkedin-in': 'linkedin',\n",
    "    'social_media.fa-brands fa-twitter': 'twitter',\n",
    "}"
   ]
  },
  {
   "cell_type": "code",
   "execution_count": 9,
   "id": "96662519-2344-428d-9669-e48c73758abe",
   "metadata": {},
   "outputs": [],
   "source": [
    "df.rename(mapper, axis='columns', inplace=True)"
   ]
  },
  {
   "cell_type": "code",
   "execution_count": 10,
   "id": "585158ac-3811-4bc7-9f53-de7c0cd08101",
   "metadata": {},
   "outputs": [],
   "source": [
    "df['cat'] = df['categories'].str.split(\", \").str[0]"
   ]
  },
  {
   "cell_type": "code",
   "execution_count": 11,
   "id": "32c44d91-924f-4893-b373-caa866966b7f",
   "metadata": {},
   "outputs": [],
   "source": [
    "df.rename(axis='columns',\n",
    "          inplace=True,\n",
    "          mapper= {\n",
    "             'categories': 'tags',\n",
    "             'cat': 'category'\n",
    "          })"
   ]
  },
  {
   "cell_type": "code",
   "execution_count": 15,
   "id": "b50aa9ec-63f8-4837-ab5d-f84f03548637",
   "metadata": {},
   "outputs": [],
   "source": [
    "cols = [\n",
    "    'name', \n",
    "    'category',\n",
    "    'tags', \n",
    "    'description', \n",
    "    'working_week_times', \n",
    "    'address', \n",
    "    'phone', \n",
    "    'email', \n",
    "    'website',\n",
    "    'whatsapp', \n",
    "    'facebook', \n",
    "    'instagram', \n",
    "    'twitter', \n",
    "    'linkedin', \n",
    "    'link',\n",
    "]\n",
    "df[cols].to_excel('turkey_data.xlsx', index=False, engine='xlsxwriter')"
   ]
  }
 ],
 "metadata": {
  "kernelspec": {
   "display_name": "Python 3 (ipykernel)",
   "language": "python",
   "name": "python3"
  },
  "language_info": {
   "codemirror_mode": {
    "name": "ipython",
    "version": 3
   },
   "file_extension": ".py",
   "mimetype": "text/x-python",
   "name": "python",
   "nbconvert_exporter": "python",
   "pygments_lexer": "ipython3",
   "version": "3.12.1"
  }
 },
 "nbformat": 4,
 "nbformat_minor": 5
}
