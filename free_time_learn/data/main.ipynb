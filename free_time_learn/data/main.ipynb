{
 "cells": [
  {
   "cell_type": "code",
   "execution_count": 173,
   "metadata": {},
   "outputs": [],
   "source": [
    "import pandas as pd\n",
    "import numpy as np\n",
    "import json"
   ]
  },
  {
   "cell_type": "code",
   "execution_count": 174,
   "metadata": {},
   "outputs": [],
   "source": [
    "with open('./raw/freetimelearning.jsonl', 'r', encoding='utf-8') as file:\n",
    "    freetimelearining_data = (json.loads(line[:-1])\n",
    "                              for line in file.readlines())"
   ]
  },
  {
   "cell_type": "code",
   "execution_count": 175,
   "metadata": {},
   "outputs": [],
   "source": [
    "free_df = pd.DataFrame(freetimelearining_data)"
   ]
  },
  {
   "cell_type": "code",
   "execution_count": 176,
   "metadata": {},
   "outputs": [],
   "source": [
    "free_df['category'] = free_df['category'].str.replace(' - Quiz(MCQ)', '')\n",
    "free_df['category'] = free_df['category'].str.strip()\n",
    "free_df['answer'] = free_df['right_answer'].str.extract(r'((?<=\\()[A-Z])')\n",
    "\n",
    "filt1 = free_df['1'].isna() & (free_df['answer'] == 'A')\n",
    "filt2 = free_df['2'].isna() & (free_df['answer'] == 'B')\n",
    "filt3 = free_df['3'].isna() & (free_df['answer'] == 'C')\n",
    "filt4 = free_df['4'].isna() & (free_df['answer'] == 'D')\n",
    "filt5 = free_df['question'].isna()\n",
    "\n",
    "free_df = free_df.loc[~(filt1 | filt2 | filt3 | filt4 | filt5)]\n",
    "\n",
    "free_df = free_df.loc[free_df['section'] == 'Computer Science']\n",
    "\n",
    "free_df = free_df.iloc[:, 1:]"
   ]
  },
  {
   "cell_type": "code",
   "execution_count": 177,
   "metadata": {},
   "outputs": [],
   "source": [
    "free_df.columns = [\n",
    "    '1 - category',\n",
    "    '2 - question',\n",
    "    '3 - right_answer',\n",
    "    '4 - link',\n",
    "    '6 - A',\n",
    "    '7 - B',\n",
    "    '8 - C',\n",
    "    '9 - D',\n",
    "    '5 - answer'\n",
    "]\n",
    "free_df.sort_index(axis='columns', inplace=True)\n",
    "free_df.columns = [col[4:] for col in free_df.columns]\n",
    "free_df['E'] = free_df['D'].apply(lambda x: None)"
   ]
  },
  {
   "cell_type": "code",
   "execution_count": 178,
   "metadata": {},
   "outputs": [],
   "source": [
    "with open('raw/examveda.jsonl', 'r', encoding='utf-8') as file:\n",
    "    examveda_data = [json.loads(line[:-1]) for line in file.readlines()]"
   ]
  },
  {
   "cell_type": "code",
   "execution_count": 179,
   "metadata": {},
   "outputs": [],
   "source": [
    "examveda_df = pd.DataFrame(examveda_data)"
   ]
  },
  {
   "cell_type": "code",
   "execution_count": 180,
   "metadata": {},
   "outputs": [],
   "source": [
    "examveda_df.drop_duplicates(inplace=True)\n",
    "examveda_df.replace(np.nan, '', inplace=True)\n",
    "examveda_df.dropna(axis=1, how='all', inplace=True)\n",
    "\n",
    "filt1 = examveda_df['6'] != \"\"\n",
    "filt2 = examveda_df['right_answer'] == '0'\n",
    "filt3 = examveda_df['right_answer'] == ''\n",
    "\n",
    "index = examveda_df.loc[filt1 | filt2 | filt3].index\n",
    "examveda_df.drop(index=index, inplace=True)\n",
    "examveda_df = examveda_df.iloc[:, 0:10]\n",
    "\n",
    "examveda_df = examveda_df.iloc[:, 1:]"
   ]
  },
  {
   "cell_type": "code",
   "execution_count": 181,
   "metadata": {},
   "outputs": [],
   "source": [
    "expanded = examveda_df['category'].str.split('-', expand=True)\n",
    "examveda_df['cat'] = expanded[0]\n",
    "examveda_df['sec'] = expanded[1]"
   ]
  },
  {
   "cell_type": "code",
   "execution_count": 182,
   "metadata": {},
   "outputs": [],
   "source": [
    "examveda_df['cat'].replace(['Computer Fundamentals', 'Computer Science'],\n",
    "                           ['', ''],\n",
    "                           inplace=True)"
   ]
  },
  {
   "cell_type": "code",
   "execution_count": 183,
   "metadata": {},
   "outputs": [],
   "source": [
    "examveda_df['category'] = examveda_df.apply(\n",
    "    lambda x: x['cat'] if x['cat'] else x['sec'],\n",
    "    axis='columns'\n",
    ")\n",
    "examveda_df.drop(columns=['cat', 'sec'], axis='columns', inplace=True)\n",
    "examveda_df['answer'] = examveda_df['right_answer'].replace(\n",
    "    ['1', '2', '3', '4', '5'],\n",
    "    ['A', 'B', 'C', 'D', 'E']\n",
    ")"
   ]
  },
  {
   "cell_type": "code",
   "execution_count": 184,
   "metadata": {},
   "outputs": [],
   "source": [
    "examveda_df.columns = [\n",
    "    '01 - category',\n",
    "    '02 - question',\n",
    "    '03 - right_answer',\n",
    "    '04 - link',\n",
    "    '06 - A',\n",
    "    '07 - B',\n",
    "    '08 - C',\n",
    "    '09 - D',\n",
    "    '10 - E',\n",
    "    '05 - answer'\n",
    "]\n",
    "examveda_df.sort_index(axis='columns', inplace=True)\n",
    "examveda_df.columns = [col[5:] for col in examveda_df.columns]"
   ]
  },
  {
   "cell_type": "code",
   "execution_count": 185,
   "metadata": {},
   "outputs": [],
   "source": [
    "df = pd.concat([\n",
    "    free_df.reset_index(),\n",
    "    examveda_df.reset_index(),\n",
    "])"
   ]
  },
  {
   "cell_type": "code",
   "execution_count": 186,
   "metadata": {},
   "outputs": [],
   "source": [
    "df.drop(columns=['right_answer', 'index'], axis='columns', inplace=True)"
   ]
  },
  {
   "cell_type": "code",
   "execution_count": 187,
   "metadata": {},
   "outputs": [],
   "source": [
    "df['category'].replace(\n",
    "  ['Javascript', 'MS Excel', 'MS Word', 'Power Point', 'Java Program'],\n",
    "  ['JavaScript', 'Microsoft Excel', 'Microsoft Word', 'Microsoft PowerPoint', 'Java'],\n",
    "    inplace=True)"
   ]
  },
  {
   "cell_type": "code",
   "execution_count": 188,
   "metadata": {},
   "outputs": [],
   "source": [
    "df.replace(np.nan, '', inplace=True)"
   ]
  },
  {
   "cell_type": "code",
   "execution_count": 189,
   "metadata": {},
   "outputs": [],
   "source": [
    "filt1 = (df['A'] == '') & (df['answer'] == 'A')\n",
    "filt2 = (df['B'] == '') & (df['answer'] == 'B')\n",
    "filt3 = (df['C'] == '') & (df['answer'] == 'C')\n",
    "filt4 = (df['D'] == '') & (df['answer'] == 'D')\n",
    "filt5 = (df['E'] == '') & (df['answer'] == 'E')\n",
    "\n",
    "idx = df.loc[filt1 | filt2 | filt3 | filt4 | filt5].index\n",
    "df.drop(index=idx, axis='index', inplace=True)"
   ]
  },
  {
   "cell_type": "code",
   "execution_count": 190,
   "metadata": {},
   "outputs": [],
   "source": [
    "df.sort_values('category', axis='index', inplace=True)"
   ]
  },
  {
   "cell_type": "code",
   "execution_count": 191,
   "metadata": {},
   "outputs": [],
   "source": [
    "# df['category'].value_counts().to_excel('categories.xlsx')\n",
    "# df.to_excel('data.xlsx', index=False)"
   ]
  },
  {
   "cell_type": "code",
   "execution_count": 193,
   "metadata": {},
   "outputs": [
    {
     "data": {
      "text/plain": [
       "category\n",
       "Java                                  2951\n",
       "C Program                             2395\n",
       "Data Science                          1795\n",
       "Computer Fundamental Miscellaneous    1417\n",
       "Database                              1332\n",
       "                                      ... \n",
       "Pytorch                                 15\n",
       "Augmented Reality                       14\n",
       "Materialize CSS                         10\n",
       "jQuery                                  10\n",
       "Ajax                                     7\n",
       "Name: count, Length: 148, dtype: int64"
      ]
     },
     "execution_count": 193,
     "metadata": {},
     "output_type": "execute_result"
    }
   ],
   "source": [
    "df['category'].value_counts()"
   ]
  },
  {
   "cell_type": "code",
   "execution_count": 192,
   "metadata": {},
   "outputs": [
    {
     "data": {
      "text/html": [
       "<div>\n",
       "<style scoped>\n",
       "    .dataframe tbody tr th:only-of-type {\n",
       "        vertical-align: middle;\n",
       "    }\n",
       "\n",
       "    .dataframe tbody tr th {\n",
       "        vertical-align: top;\n",
       "    }\n",
       "\n",
       "    .dataframe thead th {\n",
       "        text-align: right;\n",
       "    }\n",
       "</style>\n",
       "<table border=\"1\" class=\"dataframe\">\n",
       "  <thead>\n",
       "    <tr style=\"text-align: right;\">\n",
       "      <th></th>\n",
       "      <th>category</th>\n",
       "      <th>question</th>\n",
       "      <th>link</th>\n",
       "      <th>answer</th>\n",
       "      <th>A</th>\n",
       "      <th>B</th>\n",
       "      <th>C</th>\n",
       "      <th>D</th>\n",
       "      <th>E</th>\n",
       "    </tr>\n",
       "  </thead>\n",
       "  <tbody>\n",
       "    <tr>\n",
       "      <th>5689</th>\n",
       "      <td>.Net</td>\n",
       "      <td>garbage collector is a?</td>\n",
       "      <td>https://www.freetimelearning.com/online-quiz/d...</td>\n",
       "      <td>D</td>\n",
       "      <td>The Boolean data type</td>\n",
       "      <td>is unsigne has two states</td>\n",
       "      <td>is displayed by the program as yes or no.</td>\n",
       "      <td>Both (A) and (B)</td>\n",
       "      <td></td>\n",
       "    </tr>\n",
       "    <tr>\n",
       "      <th>5699</th>\n",
       "      <td>.Net</td>\n",
       "      <td>The____namespace is the root of all namespaces...</td>\n",
       "      <td>https://www.freetimelearning.com/online-quiz/d...</td>\n",
       "      <td>A</td>\n",
       "      <td>System</td>\n",
       "      <td>System.Root</td>\n",
       "      <td>System.Collections</td>\n",
       "      <td>System.Globalization</td>\n",
       "      <td></td>\n",
       "    </tr>\n",
       "    <tr>\n",
       "      <th>5698</th>\n",
       "      <td>.Net</td>\n",
       "      <td>State whether the following statements about ....</td>\n",
       "      <td>https://www.freetimelearning.com/online-quiz/d...</td>\n",
       "      <td>B</td>\n",
       "      <td>i-True, ii-True, iii-True</td>\n",
       "      <td>i-True, ii- True, iii-False</td>\n",
       "      <td>i-False, ii-True, iii-True</td>\n",
       "      <td>i-True, ii-False, iii-True</td>\n",
       "      <td></td>\n",
       "    </tr>\n",
       "    <tr>\n",
       "      <th>5697</th>\n",
       "      <td>.Net</td>\n",
       "      <td>State which of the following statements about ...</td>\n",
       "      <td>https://www.freetimelearning.com/online-quiz/d...</td>\n",
       "      <td>A</td>\n",
       "      <td>i and iii only</td>\n",
       "      <td>i and ii only</td>\n",
       "      <td>ii and iii only</td>\n",
       "      <td>None of the Above</td>\n",
       "      <td></td>\n",
       "    </tr>\n",
       "    <tr>\n",
       "      <th>5696</th>\n",
       "      <td>.Net</td>\n",
       "      <td>The______namespace includes classes and interf...</td>\n",
       "      <td>https://www.freetimelearning.com/online-quiz/d...</td>\n",
       "      <td>D</td>\n",
       "      <td>system</td>\n",
       "      <td>system.data</td>\n",
       "      <td>system.drawing</td>\n",
       "      <td>system.collection</td>\n",
       "      <td></td>\n",
       "    </tr>\n",
       "    <tr>\n",
       "      <th>...</th>\n",
       "      <td>...</td>\n",
       "      <td>...</td>\n",
       "      <td>...</td>\n",
       "      <td>...</td>\n",
       "      <td>...</td>\n",
       "      <td>...</td>\n",
       "      <td>...</td>\n",
       "      <td>...</td>\n",
       "      <td>...</td>\n",
       "    </tr>\n",
       "    <tr>\n",
       "      <th>8863</th>\n",
       "      <td>jQuery</td>\n",
       "      <td>jQuery code to set the background color of al...</td>\n",
       "      <td>https://www.freetimelearning.com/online-quiz/j...</td>\n",
       "      <td>B</td>\n",
       "      <td>$(“span”).style(“background-color”,”blue”);</td>\n",
       "      <td>$(“span”).css(“background-color”,”blue”);</td>\n",
       "      <td>$(“span”).manipulate(“background-color”,”blue”);</td>\n",
       "      <td>$(“span”).layout(“background-color”,”blue”);</td>\n",
       "      <td></td>\n",
       "    </tr>\n",
       "    <tr>\n",
       "      <th>8865</th>\n",
       "      <td>jQuery</td>\n",
       "      <td>Select all elements that contain the specified...</td>\n",
       "      <td>https://www.freetimelearning.com/online-quiz/j...</td>\n",
       "      <td>A</td>\n",
       "      <td>:selects()</td>\n",
       "      <td>:contains()</td>\n",
       "      <td>Both</td>\n",
       "      <td>None of the above</td>\n",
       "      <td></td>\n",
       "    </tr>\n",
       "    <tr>\n",
       "      <th>8866</th>\n",
       "      <td>jQuery</td>\n",
       "      <td>jQuery method is used to perform an asynchrono...</td>\n",
       "      <td>https://www.freetimelearning.com/online-quiz/j...</td>\n",
       "      <td>C</td>\n",
       "      <td>jQuery.ajaxAsync()</td>\n",
       "      <td>jQuery.ajaxSetup()</td>\n",
       "      <td>jQuery.ajax()</td>\n",
       "      <td>None of the above</td>\n",
       "      <td></td>\n",
       "    </tr>\n",
       "    <tr>\n",
       "      <th>8857</th>\n",
       "      <td>jQuery</td>\n",
       "      <td>Which of the following Jquery library extension?</td>\n",
       "      <td>https://www.freetimelearning.com/online-quiz/j...</td>\n",
       "      <td>C</td>\n",
       "      <td></td>\n",
       "      <td></td>\n",
       "      <td>.js</td>\n",
       "      <td></td>\n",
       "      <td></td>\n",
       "    </tr>\n",
       "    <tr>\n",
       "      <th>8675</th>\n",
       "      <td>jQuery</td>\n",
       "      <td>How many types of selectors available in jquery.</td>\n",
       "      <td>https://www.freetimelearning.com/online-quiz/j...</td>\n",
       "      <td>C</td>\n",
       "      <td>1</td>\n",
       "      <td>2</td>\n",
       "      <td>3</td>\n",
       "      <td>4</td>\n",
       "      <td></td>\n",
       "    </tr>\n",
       "  </tbody>\n",
       "</table>\n",
       "<p>29118 rows × 9 columns</p>\n",
       "</div>"
      ],
      "text/plain": [
       "     category                                           question  \\\n",
       "5689     .Net                            garbage collector is a?   \n",
       "5699     .Net  The____namespace is the root of all namespaces...   \n",
       "5698     .Net  State whether the following statements about ....   \n",
       "5697     .Net  State which of the following statements about ...   \n",
       "5696     .Net  The______namespace includes classes and interf...   \n",
       "...       ...                                                ...   \n",
       "8863   jQuery   jQuery code to set the background color of al...   \n",
       "8865   jQuery  Select all elements that contain the specified...   \n",
       "8866   jQuery  jQuery method is used to perform an asynchrono...   \n",
       "8857   jQuery   Which of the following Jquery library extension?   \n",
       "8675   jQuery   How many types of selectors available in jquery.   \n",
       "\n",
       "                                                   link answer  \\\n",
       "5689  https://www.freetimelearning.com/online-quiz/d...      D   \n",
       "5699  https://www.freetimelearning.com/online-quiz/d...      A   \n",
       "5698  https://www.freetimelearning.com/online-quiz/d...      B   \n",
       "5697  https://www.freetimelearning.com/online-quiz/d...      A   \n",
       "5696  https://www.freetimelearning.com/online-quiz/d...      D   \n",
       "...                                                 ...    ...   \n",
       "8863  https://www.freetimelearning.com/online-quiz/j...      B   \n",
       "8865  https://www.freetimelearning.com/online-quiz/j...      A   \n",
       "8866  https://www.freetimelearning.com/online-quiz/j...      C   \n",
       "8857  https://www.freetimelearning.com/online-quiz/j...      C   \n",
       "8675  https://www.freetimelearning.com/online-quiz/j...      C   \n",
       "\n",
       "                                                A  \\\n",
       "5689                        The Boolean data type   \n",
       "5699                                       System   \n",
       "5698                    i-True, ii-True, iii-True   \n",
       "5697                               i and iii only   \n",
       "5696                                       system   \n",
       "...                                           ...   \n",
       "8863  $(“span”).style(“background-color”,”blue”);   \n",
       "8865                                   :selects()   \n",
       "8866                           jQuery.ajaxAsync()   \n",
       "8857                                                \n",
       "8675                                            1   \n",
       "\n",
       "                                              B  \\\n",
       "5689                  is unsigne has two states   \n",
       "5699                                System.Root   \n",
       "5698                i-True, ii- True, iii-False   \n",
       "5697                              i and ii only   \n",
       "5696                                system.data   \n",
       "...                                         ...   \n",
       "8863  $(“span”).css(“background-color”,”blue”);   \n",
       "8865                                :contains()   \n",
       "8866                         jQuery.ajaxSetup()   \n",
       "8857                                              \n",
       "8675                                          2   \n",
       "\n",
       "                                                     C  \\\n",
       "5689         is displayed by the program as yes or no.   \n",
       "5699                                System.Collections   \n",
       "5698                        i-False, ii-True, iii-True   \n",
       "5697                                   ii and iii only   \n",
       "5696                                    system.drawing   \n",
       "...                                                ...   \n",
       "8863  $(“span”).manipulate(“background-color”,”blue”);   \n",
       "8865                                              Both   \n",
       "8866                                     jQuery.ajax()   \n",
       "8857                                               .js   \n",
       "8675                                                 3   \n",
       "\n",
       "                                                 D E   \n",
       "5689                              Both (A) and (B)     \n",
       "5699                          System.Globalization     \n",
       "5698                    i-True, ii-False, iii-True     \n",
       "5697                             None of the Above     \n",
       "5696                             system.collection     \n",
       "...                                            ... ..  \n",
       "8863  $(“span”).layout(“background-color”,”blue”);     \n",
       "8865                             None of the above     \n",
       "8866                             None of the above     \n",
       "8857                                                   \n",
       "8675                                             4     \n",
       "\n",
       "[29118 rows x 9 columns]"
      ]
     },
     "execution_count": 192,
     "metadata": {},
     "output_type": "execute_result"
    }
   ],
   "source": [
    "df"
   ]
  }
 ],
 "metadata": {
  "kernelspec": {
   "display_name": "Python 3",
   "language": "python",
   "name": "python3"
  },
  "language_info": {
   "codemirror_mode": {
    "name": "ipython",
    "version": 3
   },
   "file_extension": ".py",
   "mimetype": "text/x-python",
   "name": "python",
   "nbconvert_exporter": "python",
   "pygments_lexer": "ipython3",
   "version": "3.12.0"
  }
 },
 "nbformat": 4,
 "nbformat_minor": 2
}
