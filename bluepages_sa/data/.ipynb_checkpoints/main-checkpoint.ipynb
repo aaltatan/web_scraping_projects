{
 "cells": [
  {
   "cell_type": "code",
   "execution_count": 141,
   "metadata": {},
   "outputs": [],
   "source": [
    "import pandas as pd\n",
    "import numpy as np\n",
    "import json"
   ]
  },
  {
   "cell_type": "code",
   "execution_count": 142,
   "metadata": {},
   "outputs": [],
   "source": [
    "with open('data.jsonl', 'r', encoding='utf-8') as file:\n",
    "    data = (json.loads(line[:-1]) for line in file.readlines())"
   ]
  },
  {
   "cell_type": "code",
   "execution_count": 143,
   "metadata": {},
   "outputs": [],
   "source": [
    "df = pd.json_normalize(data)"
   ]
  },
  {
   "cell_type": "code",
   "execution_count": 144,
   "metadata": {},
   "outputs": [],
   "source": [
    "pd.set_option('display.max_columns', 100)"
   ]
  },
  {
   "cell_type": "code",
   "execution_count": 145,
   "metadata": {},
   "outputs": [
    {
     "data": {
      "text/plain": [
       "(152387, 91)"
      ]
     },
     "execution_count": 145,
     "metadata": {},
     "output_type": "execute_result"
    }
   ],
   "source": [
    "df.shape"
   ]
  },
  {
   "cell_type": "code",
   "execution_count": 146,
   "metadata": {},
   "outputs": [],
   "source": [
    "categories_df = df['categories'].apply(pd.Series)"
   ]
  },
  {
   "cell_type": "code",
   "execution_count": 147,
   "metadata": {},
   "outputs": [],
   "source": [
    "categories_data = list(map(lambda x: x.get('name_ar', 'Unknown') if type(x) == dict else 'Unknown',\n",
    "                           categories_df[0].tolist()))"
   ]
  },
  {
   "cell_type": "code",
   "execution_count": 148,
   "metadata": {},
   "outputs": [],
   "source": [
    "categories_df = pd.DataFrame(categories_data)"
   ]
  },
  {
   "cell_type": "code",
   "execution_count": 149,
   "metadata": {},
   "outputs": [],
   "source": [
    "categories_df.columns = ['Category']"
   ]
  },
  {
   "cell_type": "code",
   "execution_count": 150,
   "metadata": {},
   "outputs": [],
   "source": [
    "df = pd.concat([df, categories_df], axis='columns')"
   ]
  },
  {
   "cell_type": "code",
   "execution_count": 151,
   "metadata": {},
   "outputs": [],
   "source": [
    "df = df[[\n",
    "    'name_en',\n",
    "    'name_ar',\n",
    "    'Category',\n",
    "    'email',\n",
    "    'standard_phone',\n",
    "    'website',\n",
    "    'post_code',\n",
    "    'logo',\n",
    "    'latitude',\n",
    "    'longitude',\n",
    "    'location_link',\n",
    "    'facebook',\n",
    "    'twitter',\n",
    "    'linkedin',\n",
    "    'youtube',\n",
    "    'tiktok',\n",
    "    'whatsapp',\n",
    "    'snapchat',\n",
    "    'instagram',\n",
    "    'youtube_video',\n",
    "    'agent_name',\n",
    "    'agent_job',\n",
    "    'hotline',\n",
    "    'building_no',\n",
    "    'street_ar',\n",
    "    'street_en',\n",
    "    'description_en',\n",
    "    'description_ar',\n",
    "    'keywords',\n",
    "    'district_en',\n",
    "    'district_ar',\n",
    "    'commercial_reg',\n",
    "    'createdAt',\n",
    "    'updatedAt',\n",
    "    'city.name_en',\n",
    "    'city.name_ar',\n",
    "    'city.city_code',\n",
    "]]"
   ]
  },
  {
   "cell_type": "code",
   "execution_count": 152,
   "metadata": {},
   "outputs": [
    {
     "data": {
      "text/plain": [
       "(152387, 37)"
      ]
     },
     "execution_count": 152,
     "metadata": {},
     "output_type": "execute_result"
    }
   ],
   "source": [
    "df.shape"
   ]
  },
  {
   "cell_type": "code",
   "execution_count": 155,
   "metadata": {},
   "outputs": [],
   "source": [
    "df.to_excel('data.xlsx', index=False)"
   ]
  },
  {
   "cell_type": "code",
   "execution_count": 157,
   "metadata": {},
   "outputs": [],
   "source": [
    "df.head(50).to_excel('sample.xlsx', index=False)"
   ]
  }
 ],
 "metadata": {
  "kernelspec": {
   "display_name": "scrapy-env",
   "language": "python",
   "name": "python3"
  },
  "language_info": {
   "codemirror_mode": {
    "name": "ipython",
    "version": 3
   },
   "file_extension": ".py",
   "mimetype": "text/x-python",
   "name": "python",
   "nbconvert_exporter": "python",
   "pygments_lexer": "ipython3",
   "version": "3.12.0"
  }
 },
 "nbformat": 4,
 "nbformat_minor": 2
}
