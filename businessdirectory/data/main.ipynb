{
 "cells": [
  {
   "cell_type": "code",
   "execution_count": 8,
   "metadata": {},
   "outputs": [],
   "source": [
    "import pandas as pd\n",
    "import numpy as np\n",
    "import json"
   ]
  },
  {
   "cell_type": "code",
   "execution_count": 9,
   "metadata": {},
   "outputs": [],
   "source": [
    "with open(\"companies.jsonl\", \"r\", encoding=\"utf-8\") as file:\n",
    "    data = (json.loads(line[:-1]) for line in file.readlines())"
   ]
  },
  {
   "cell_type": "code",
   "execution_count": 10,
   "metadata": {},
   "outputs": [],
   "source": [
    "df = pd.DataFrame(data)"
   ]
  },
  {
   "cell_type": "code",
   "execution_count": 11,
   "metadata": {},
   "outputs": [
    {
     "data": {
      "text/plain": [
       "(1028, 8)"
      ]
     },
     "execution_count": 11,
     "metadata": {},
     "output_type": "execute_result"
    }
   ],
   "source": [
    "df.shape"
   ]
  },
  {
   "cell_type": "code",
   "execution_count": 12,
   "metadata": {},
   "outputs": [
    {
     "data": {
      "text/plain": [
       "category\n",
       "وزارات وهيئات حكومية                                     678\n",
       "فنادق                                                     39\n",
       "ادارة الهيئة الملكية                                      27\n",
       "الرئاسة العامة لهيئات الأمر بالمعروف والنهى عن المنكر     26\n",
       "الجمعية الخيرية لتحفيظ القرآن الكريم                      24\n",
       "                                                        ... \n",
       "استشاريون تسويق                                            1\n",
       "مصانع مكائن ومعدات ثقيلة                                   1\n",
       "انظمة مستشفيات وخدمات طبية                                 1\n",
       "عطور                                                       1\n",
       "ميناء الخفجى                                               1\n",
       "Name: count, Length: 109, dtype: int64"
      ]
     },
     "execution_count": 12,
     "metadata": {},
     "output_type": "execute_result"
    }
   ],
   "source": [
    "df.category.value_counts()"
   ]
  }
 ],
 "metadata": {
  "kernelspec": {
   "display_name": "scrapy-env",
   "language": "python",
   "name": "python3"
  },
  "language_info": {
   "codemirror_mode": {
    "name": "ipython",
    "version": 3
   },
   "file_extension": ".py",
   "mimetype": "text/x-python",
   "name": "python",
   "nbconvert_exporter": "python",
   "pygments_lexer": "ipython3",
   "version": "3.12.0"
  }
 },
 "nbformat": 4,
 "nbformat_minor": 2
}
