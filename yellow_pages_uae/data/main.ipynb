{
 "cells": [
  {
   "cell_type": "code",
   "execution_count": 17,
   "metadata": {},
   "outputs": [],
   "source": [
    "import pandas as pd\n",
    "import numpy as np\n",
    "import json"
   ]
  },
  {
   "cell_type": "code",
   "execution_count": 18,
   "metadata": {},
   "outputs": [],
   "source": [
    "with open('uae_companies.jsonl', 'r', encoding='utf-8') as file:\n",
    "    data = (json.loads(line[:-1]) for line in file.readlines())"
   ]
  },
  {
   "cell_type": "code",
   "execution_count": 19,
   "metadata": {},
   "outputs": [],
   "source": [
    "df = pd.DataFrame(data)"
   ]
  },
  {
   "cell_type": "code",
   "execution_count": 20,
   "metadata": {},
   "outputs": [],
   "source": [
    "pd.set_option('display.max_columns', 100)"
   ]
  },
  {
   "cell_type": "code",
   "execution_count": 21,
   "metadata": {},
   "outputs": [],
   "source": [
    "df.dropna(thresh=len(df)*0.9, axis='columns', inplace=True)"
   ]
  },
  {
   "cell_type": "code",
   "execution_count": 22,
   "metadata": {},
   "outputs": [],
   "source": [
    "cols = [\n",
    "    'productName',\n",
    "    'productCategoryName',\n",
    "    'productSubcategoryName',\n",
    "    'sellerCompanyName',\n",
    "    'productLocation',\n",
    "    'rating',\n",
    "    'keywords',\n",
    "    'metaKeywords',\n",
    "    'seller',\n",
    "]\n",
    "df = df[cols]"
   ]
  },
  {
   "cell_type": "code",
   "execution_count": 23,
   "metadata": {},
   "outputs": [],
   "source": [
    "sellers_df = df['seller'].apply(pd.Series)"
   ]
  },
  {
   "cell_type": "code",
   "execution_count": 24,
   "metadata": {},
   "outputs": [],
   "source": [
    "sellers_df.dropna(thresh=len(sellers_df)*0.9, axis='columns', inplace=True)"
   ]
  },
  {
   "cell_type": "code",
   "execution_count": 25,
   "metadata": {},
   "outputs": [],
   "source": [
    "cols = [\n",
    "    'firstName',\n",
    "    'lastName',\n",
    "    'sellerVirtualContactPhone',\n",
    "    'sellerCompanyName',\n",
    "    'sellerCompanyAddress',\n",
    "    'sellerCompanyNumber',\n",
    "    'sellerCountry',\n",
    "    'sellerState',\n",
    "    'sellerWebsite',\n",
    "    'email',\n",
    "]\n",
    "sellers_df = sellers_df[cols]"
   ]
  },
  {
   "cell_type": "code",
   "execution_count": 26,
   "metadata": {},
   "outputs": [],
   "source": [
    "sellers_df.replace(np.nan, '', inplace=True)\n",
    "sellers_df = sellers_df.add_prefix('sellers_', axis='columns')"
   ]
  },
  {
   "cell_type": "code",
   "execution_count": 27,
   "metadata": {},
   "outputs": [],
   "source": [
    "df = pd.concat([df, sellers_df], axis='columns')"
   ]
  },
  {
   "cell_type": "code",
   "execution_count": 28,
   "metadata": {},
   "outputs": [],
   "source": [
    "df.drop(['seller'], inplace=True, axis='columns')"
   ]
  },
  {
   "cell_type": "code",
   "execution_count": 38,
   "metadata": {},
   "outputs": [],
   "source": [
    "cols = [\n",
    "    'sellerCompanyName',\n",
    "    'productCategoryName',\n",
    "    'productSubcategoryName',\n",
    "    'keywords',\n",
    "    'sellers_firstName',\n",
    "    'sellers_lastName',\n",
    "    'sellers_sellerCountry',\n",
    "    'sellers_sellerState',\n",
    "    'sellers_sellerCompanyAddress',\n",
    "    'sellers_sellerCompanyNumber',\n",
    "    'sellers_sellerWebsite',\n",
    "    'sellers_email'\n",
    "]\n",
    "df = df[cols]"
   ]
  },
  {
   "cell_type": "code",
   "execution_count": 39,
   "metadata": {},
   "outputs": [
    {
     "name": "stderr",
     "output_type": "stream",
     "text": [
      "C:\\Users\\CLICK\\AppData\\Local\\Temp\\ipykernel_6560\\1579099090.py:1: SettingWithCopyWarning: \n",
      "A value is trying to be set on a copy of a slice from a DataFrame.\n",
      "Try using .loc[row_indexer,col_indexer] = value instead\n",
      "\n",
      "See the caveats in the documentation: https://pandas.pydata.org/pandas-docs/stable/user_guide/indexing.html#returning-a-view-versus-a-copy\n",
      "  df['sellers_email'] = df['sellers_email'].apply(\n"
     ]
    }
   ],
   "source": [
    "df['sellers_email'] = df['sellers_email'].apply(\n",
    "    lambda x: x if not x.endswith('.COM') else '')"
   ]
  },
  {
   "cell_type": "code",
   "execution_count": 41,
   "metadata": {},
   "outputs": [
    {
     "name": "stderr",
     "output_type": "stream",
     "text": [
      "C:\\Users\\CLICK\\AppData\\Local\\Temp\\ipykernel_6560\\3307875619.py:1: SettingWithCopyWarning: \n",
      "A value is trying to be set on a copy of a slice from a DataFrame\n",
      "\n",
      "See the caveats in the documentation: https://pandas.pydata.org/pandas-docs/stable/user_guide/indexing.html#returning-a-view-versus-a-copy\n",
      "  df.replace(np.nan, '', inplace=True)\n"
     ]
    }
   ],
   "source": [
    "df.replace(np.nan, '', inplace=True)"
   ]
  },
  {
   "cell_type": "code",
   "execution_count": 43,
   "metadata": {},
   "outputs": [],
   "source": [
    "df = df.loc[df['sellerCompanyName'] != '']"
   ]
  },
  {
   "cell_type": "code",
   "execution_count": 45,
   "metadata": {},
   "outputs": [],
   "source": [
    "df.dro"
   ]
  }
 ],
 "metadata": {
  "kernelspec": {
   "display_name": "Python 3",
   "language": "python",
   "name": "python3"
  },
  "language_info": {
   "codemirror_mode": {
    "name": "ipython",
    "version": 3
   },
   "file_extension": ".py",
   "mimetype": "text/x-python",
   "name": "python",
   "nbconvert_exporter": "python",
   "pygments_lexer": "ipython3",
   "version": "3.12.0"
  }
 },
 "nbformat": 4,
 "nbformat_minor": 5
}
