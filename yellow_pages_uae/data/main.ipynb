{
 "cells": [
  {
   "cell_type": "code",
   "execution_count": 1,
   "metadata": {},
   "outputs": [],
   "source": [
    "import pandas as pd\n",
    "import numpy as np\n",
    "import json"
   ]
  },
  {
   "cell_type": "code",
   "execution_count": 2,
   "metadata": {},
   "outputs": [],
   "source": [
    "with open('uae_companies.jsonl', 'r', encoding='utf-8') as file:\n",
    "    data = (json.loads(line[:-1]) for line in file.readlines())"
   ]
  },
  {
   "cell_type": "code",
   "execution_count": 3,
   "metadata": {},
   "outputs": [],
   "source": [
    "df = pd.DataFrame(data)"
   ]
  },
  {
   "cell_type": "code",
   "execution_count": 4,
   "metadata": {},
   "outputs": [],
   "source": [
    "pd.set_option('display.max_columns', 100)"
   ]
  },
  {
   "cell_type": "code",
   "execution_count": 5,
   "metadata": {},
   "outputs": [],
   "source": [
    "df.dropna(thresh=len(df)*0.9, axis='columns', inplace=True)"
   ]
  },
  {
   "cell_type": "code",
   "execution_count": 6,
   "metadata": {},
   "outputs": [],
   "source": [
    "cols = [\n",
    "    'productName',\n",
    "    'productCategoryName',\n",
    "    'productSubcategoryName',\n",
    "    'sellerCompanyName',\n",
    "    'productLocation',\n",
    "    'rating',\n",
    "    'keywords',\n",
    "    'metaKeywords',\n",
    "    'seller',\n",
    "]\n",
    "df = df[cols]"
   ]
  },
  {
   "cell_type": "code",
   "execution_count": 7,
   "metadata": {},
   "outputs": [],
   "source": [
    "sellers_df = df['seller'].apply(pd.Series)"
   ]
  },
  {
   "cell_type": "code",
   "execution_count": 8,
   "metadata": {},
   "outputs": [],
   "source": [
    "sellers_df.dropna(thresh=len(sellers_df)*0.9, axis='columns', inplace=True)"
   ]
  },
  {
   "cell_type": "code",
   "execution_count": 9,
   "metadata": {},
   "outputs": [],
   "source": [
    "cols = [\n",
    "    'firstName',\n",
    "    'lastName',\n",
    "    'sellerVirtualContactPhone',\n",
    "    'sellerCompanyName',\n",
    "    'sellerCompanyAddress',\n",
    "    'sellerCompanyNumber',\n",
    "    'sellerCountry',\n",
    "    'sellerState',\n",
    "    'sellerWebsite',\n",
    "    'email',\n",
    "]\n",
    "sellers_df = sellers_df[cols]"
   ]
  },
  {
   "cell_type": "code",
   "execution_count": 10,
   "metadata": {},
   "outputs": [],
   "source": [
    "sellers_df.replace(np.nan, '', inplace=True)\n",
    "sellers_df = sellers_df.add_prefix('sellers_', axis='columns')"
   ]
  },
  {
   "cell_type": "code",
   "execution_count": 11,
   "metadata": {},
   "outputs": [],
   "source": [
    "df = pd.concat([df, sellers_df], axis='columns')"
   ]
  },
  {
   "cell_type": "code",
   "execution_count": 12,
   "metadata": {},
   "outputs": [],
   "source": [
    "df.drop(['seller'], inplace=True, axis='columns')"
   ]
  },
  {
   "cell_type": "code",
   "execution_count": 13,
   "metadata": {},
   "outputs": [],
   "source": [
    "cols = [\n",
    "    'sellerCompanyName',\n",
    "    'productCategoryName',\n",
    "    'productSubcategoryName',\n",
    "    'keywords',\n",
    "    'sellers_firstName',\n",
    "    'sellers_lastName',\n",
    "    'sellers_sellerCountry',\n",
    "    'sellers_sellerState',\n",
    "    'sellers_sellerCompanyAddress',\n",
    "    'sellers_sellerCompanyNumber',\n",
    "    'sellers_sellerWebsite',\n",
    "    'sellers_email'\n",
    "]\n",
    "df = df[cols]"
   ]
  },
  {
   "cell_type": "code",
   "execution_count": 14,
   "metadata": {},
   "outputs": [],
   "source": [
    "df['sellers_email'] = df['sellers_email'].apply(\n",
    "    lambda x: x if not x.endswith('.COM') else '')"
   ]
  },
  {
   "cell_type": "code",
   "execution_count": 15,
   "metadata": {},
   "outputs": [],
   "source": [
    "df.replace(np.nan, '', inplace=True)"
   ]
  },
  {
   "cell_type": "code",
   "execution_count": 16,
   "metadata": {},
   "outputs": [],
   "source": [
    "df = df.loc[df['sellerCompanyName'] != '']"
   ]
  },
  {
   "cell_type": "code",
   "execution_count": 17,
   "metadata": {},
   "outputs": [],
   "source": [
    "df.to_excel('data.xlsx')"
   ]
  }
 ],
 "metadata": {
  "kernelspec": {
   "display_name": "Python 3",
   "language": "python",
   "name": "python3"
  },
  "language_info": {
   "codemirror_mode": {
    "name": "ipython",
    "version": 3
   },
   "file_extension": ".py",
   "mimetype": "text/x-python",
   "name": "python",
   "nbconvert_exporter": "python",
   "pygments_lexer": "ipython3",
   "version": "3.12.1"
  }
 },
 "nbformat": 4,
 "nbformat_minor": 5
}
